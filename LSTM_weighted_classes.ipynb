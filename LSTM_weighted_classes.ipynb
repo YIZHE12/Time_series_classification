{
 "cells": [
  {
   "cell_type": "code",
   "execution_count": 1,
   "metadata": {},
   "outputs": [],
   "source": [
    "import numpy as np\n",
    "import pandas as pd\n",
    "\n",
    "import matplotlib.pyplot as plt\n",
    "import seaborn as sns"
   ]
  },
  {
   "cell_type": "code",
   "execution_count": 2,
   "metadata": {},
   "outputs": [],
   "source": [
    "import seaborn as sns"
   ]
  },
  {
   "cell_type": "code",
   "execution_count": 3,
   "metadata": {},
   "outputs": [],
   "source": [
    "X_test = pd.read_csv('Data/X_test.csv')\n",
    "X_train = pd.read_csv('Data/X_train.csv')\n",
    "y_train = pd.read_csv('Data/y_train.csv')"
   ]
  },
  {
   "cell_type": "code",
   "execution_count": 4,
   "metadata": {},
   "outputs": [],
   "source": [
    "def get_values_X_2D(X):\n",
    "    n_timestep, n_feature = 128, 10\n",
    "    X_data_ori = X.iloc[:,3:].values # original values\n",
    "    #X_data = StandardScaler().fit_transform(X_data_ori)# standarlize the data\n",
    "    #X_data = MinMaxScaler().fit_transform(X_data)# standarlize the data\n",
    "\n",
    "    X_data_2D = np.reshape(X_data_ori, (int(len(X_data_ori)/n_timestep),n_timestep,n_feature)) # convert to 2D images\n",
    "    return (X_data_2D)"
   ]
  },
  {
   "cell_type": "code",
   "execution_count": 5,
   "metadata": {},
   "outputs": [],
   "source": [
    "X_data_2D = get_values_X_2D(X_train)\n",
    "all_group = y_train.surface.unique()"
   ]
  },
  {
   "cell_type": "code",
   "execution_count": 6,
   "metadata": {},
   "outputs": [
    {
     "data": {
      "text/plain": [
       "array(['fine_concrete', 'concrete', 'soft_tiles', 'tiled', 'soft_pvc',\n",
       "       'hard_tiles_large_space', 'carpet', 'hard_tiles', 'wood'],\n",
       "      dtype=object)"
      ]
     },
     "execution_count": 6,
     "metadata": {},
     "output_type": "execute_result"
    }
   ],
   "source": [
    "all_group"
   ]
  },
  {
   "cell_type": "markdown",
   "metadata": {},
   "source": [
    "## LSTM models"
   ]
  },
  {
   "cell_type": "code",
   "execution_count": 13,
   "metadata": {},
   "outputs": [],
   "source": [
    "# cnn model\n",
    "from numpy import mean\n",
    "from numpy import std\n",
    "from numpy import dstack\n",
    "from pandas import read_csv\n",
    "import numpy as np\n",
    "\n",
    "from sklearn.preprocessing import StandardScaler, MinMaxScaler\n",
    "from matplotlib import pyplot\n",
    "\n",
    "from sklearn.preprocessing import LabelEncoder\n",
    "from sklearn.preprocessing import OneHotEncoder\n",
    "from sklearn.model_selection import train_test_split\n",
    "\n",
    "from keras.models import Sequential\n",
    "from keras.layers import Dense, LSTM, Input\n",
    "from keras.layers import Flatten\n",
    "from keras.layers import Dropout\n",
    "from keras.layers import BatchNormalization\n",
    "from keras.layers.convolutional import Conv1D\n",
    "from keras.layers.convolutional import MaxPooling1D\n",
    "from keras.utils import to_categorical\n",
    "\n",
    "from keras.callbacks import EarlyStopping\n",
    "from keras.callbacks import ModelCheckpoint\n",
    "\n",
    "from keras.optimizers import Adam"
   ]
  },
  {
   "cell_type": "code",
   "execution_count": 21,
   "metadata": {},
   "outputs": [],
   "source": [
    "def prepare_dataset(X, y_data):\n",
    "    n_timestep, n_feature = 128, 10\n",
    "    \n",
    "    X_data = X.iloc[:,3:].values # original values\n",
    "    #X_data = StandardScaler().fit_transform(X_data)# standarlize the data\n",
    "    #X_data = MinMaxScaler().fit_transform(X_data)# standarlize the data\n",
    "\n",
    "    X_data_2D = np.reshape(X_data, (int(len(X_data)/n_timestep),n_timestep,n_feature)) # convert to 2D images\n",
    "    \n",
    "    # integer encode\n",
    "    label_encoder = LabelEncoder()\n",
    "    integer_encoded = label_encoder.fit_transform(y_data)\n",
    "    # binary encode\n",
    "    onehot_encoder = OneHotEncoder(sparse=False, categories='auto')\n",
    "    integer_encoded = integer_encoded.reshape(len(integer_encoded), 1)\n",
    "    y_onehot_encoded = onehot_encoder.fit_transform(integer_encoded)\n",
    "\n",
    "    X_train, X_test, y_train, y_test = train_test_split(X_data_2D, y_onehot_encoded, test_size=0.4, random_state=42)\n",
    "    print (X_train.shape, X_test.shape, y_train.shape, y_test.shape)\n",
    "    return(label_encoder, X_train, y_train, X_test, y_test)\n"
   ]
  },
  {
   "cell_type": "code",
   "execution_count": 24,
   "metadata": {},
   "outputs": [],
   "source": [
    "#fit and evaluate a model\n",
    "def evaluate_model(trainX, trainy, testX, testy):\n",
    "    verbose, epochs, batch_size = 1, 10, 500\n",
    "    n_timesteps, n_features, n_outputs = trainX.shape[1], trainX.shape[2], trainy.shape[1]\n",
    "    \n",
    "    class_weight = {0: 2.,\n",
    "                1: 1.,\n",
    "                2: 3.,\n",
    "                3: 1.,\n",
    "                4: 1.,\n",
    "                5: 3.,\n",
    "                6: 4.,\n",
    "                7: 20.,\n",
    "                8: 1}\n",
    "    \n",
    "    model = Sequential()\n",
    "    #model.add(Input(shape = (n_timesteps,n_features)))\n",
    "    model.add(BatchNormalization(input_shape = (n_timesteps,n_features)))\n",
    "    model.add(Conv1D(filters=64, kernel_size=3, activation='relu'))\n",
    "    model.add(LSTM(100, return_sequences=True))\n",
    "\n",
    "    model.add(LSTM(100, return_sequences=False))\n",
    "\n",
    "    #model.add(Flatten())\n",
    "    model.add(Dense(n_outputs, activation='softmax'))\n",
    "    model.summary()\n",
    "    \n",
    "    \n",
    "    \n",
    "    opt = Adam(lr = 0.001)\n",
    "    model.compile(loss='categorical_crossentropy', optimizer=opt, metrics=['accuracy'])\n",
    "    # fit network\n",
    "    es = EarlyStopping(monitor='val_loss', mode='min', verbose=1, patience=5)\n",
    "    mc = ModelCheckpoint('best_model_lstm_only.h5', monitor='val_acc', mode='max', verbose=1, save_best_only=True)\n",
    "    # fit model\n",
    "    history = model.fit(trainX, trainy, validation_data=(testX, testy), epochs=epochs, \\\n",
    "                        batch_size=batch_size, verbose=verbose,  class_weight=class_weight, callbacks=[es, mc])\n",
    "\n",
    "    pyplot.plot(history.history['loss'], label='train')\n",
    "    pyplot.plot(history.history['val_loss'], label='test')\n",
    "    pyplot.legend()\n",
    "    pyplot.show()\n",
    "    # evaluate model\n",
    "    _, accuracy = model.evaluate(testX, testy, batch_size=batch_size, verbose=0)\n",
    "    return accuracy\n",
    "\n",
    "# summarize scores\n",
    "def summarize_results(scores):\n",
    "    print(scores)\n",
    "    m, s = mean(scores), std(scores)\n",
    "    print('Accuracy: %.3f%% (+/-%.3f)' % (m, s))\n",
    "\n",
    "# run an experiment\n",
    "def run_experiment(repeats=10):\n",
    "    # load data\n",
    "    label_encoder, trainX, trainy, testX, testy = prepare_dataset(X_train, y_train.surface)\n",
    "    # repeat experiment\n",
    "    scores = list()\n",
    "    for r in range(repeats):\n",
    "        score = evaluate_model(trainX, trainy, testX, testy)\n",
    "        score = score * 100.0\n",
    "        print('>#%d: %.3f' % (r+1, score))\n",
    "        scores.append(score)\n",
    "    # summarize results\n",
    "    summarize_results(scores)"
   ]
  },
  {
   "cell_type": "code",
   "execution_count": 25,
   "metadata": {
    "scrolled": false
   },
   "outputs": [
    {
     "name": "stdout",
     "output_type": "stream",
     "text": [
      "(2286, 128, 10) (1524, 128, 10) (2286, 9) (1524, 9)\n",
      "_________________________________________________________________\n",
      "Layer (type)                 Output Shape              Param #   \n",
      "=================================================================\n",
      "batch_normalization_5 (Batch (None, 128, 10)           40        \n",
      "_________________________________________________________________\n",
      "conv1d_1 (Conv1D)            (None, 126, 64)           1984      \n",
      "_________________________________________________________________\n",
      "lstm_9 (LSTM)                (None, 126, 100)          66000     \n",
      "_________________________________________________________________\n",
      "lstm_10 (LSTM)               (None, 100)               80400     \n",
      "_________________________________________________________________\n",
      "dense_5 (Dense)              (None, 9)                 909       \n",
      "=================================================================\n",
      "Total params: 149,333\n",
      "Trainable params: 149,313\n",
      "Non-trainable params: 20\n",
      "_________________________________________________________________\n",
      "Train on 2286 samples, validate on 1524 samples\n",
      "Epoch 1/10\n",
      "2286/2286 [==============================] - 6s 3ms/step - loss: 8.9492 - acc: 0.1391 - val_loss: 2.3267 - val_acc: 0.1240\n",
      "\n",
      "Epoch 00001: val_acc improved from -inf to 0.12402, saving model to best_model_lstm_only.h5\n",
      "Epoch 2/10\n",
      "2286/2286 [==============================] - 3s 1ms/step - loss: 6.3114 - acc: 0.1422 - val_loss: 3.1722 - val_acc: 0.1240\n",
      "\n",
      "Epoch 00002: val_acc did not improve from 0.12402\n",
      "Epoch 3/10\n",
      "2286/2286 [==============================] - 3s 1ms/step - loss: 5.8831 - acc: 0.1465 - val_loss: 2.4951 - val_acc: 0.1818\n",
      "\n",
      "Epoch 00003: val_acc improved from 0.12402 to 0.18176, saving model to best_model_lstm_only.h5\n",
      "Epoch 4/10\n",
      "2286/2286 [==============================] - 3s 1ms/step - loss: 5.6855 - acc: 0.1802 - val_loss: 2.6034 - val_acc: 0.1247\n",
      "\n",
      "Epoch 00004: val_acc did not improve from 0.18176\n",
      "Epoch 5/10\n",
      "2286/2286 [==============================] - 3s 1ms/step - loss: 5.4903 - acc: 0.1479 - val_loss: 2.6091 - val_acc: 0.1621\n",
      "\n",
      "Epoch 00005: val_acc did not improve from 0.18176\n",
      "Epoch 6/10\n",
      "2286/2286 [==============================] - 3s 1ms/step - loss: 5.3279 - acc: 0.2091 - val_loss: 2.4252 - val_acc: 0.2218\n",
      "\n",
      "Epoch 00006: val_acc improved from 0.18176 to 0.22178, saving model to best_model_lstm_only.h5\n",
      "Epoch 00006: early stopping\n"
     ]
    },
    {
     "data": {
      "image/png": "[encoded data removed]",
      "text/plain": [
       "<Figure size 432x288 with 1 Axes>"
      ]
     },
     "metadata": {
      "needs_background": "light"
     },
     "output_type": "display_data"
    },
    {
     "name": "stdout",
     "output_type": "stream",
     "text": [
      ">#1: 22.178\n",
      "[22.17847726007146]\n",
      "Accuracy: 22.178% (+/-0.000)\n"
     ]
    }
   ],
   "source": [
    "# run the experiment\n",
    "run_experiment(1)"
   ]
  }
 ],
 "metadata": {
  "kernelspec": {
   "display_name": "Python 3",
   "language": "python",
   "name": "python3"
  },
  "language_info": {
   "codemirror_mode": {
    "name": "ipython",
    "version": 3
   },
   "file_extension": ".py",
   "mimetype": "text/x-python",
   "name": "python",
   "nbconvert_exporter": "python",
   "pygments_lexer": "ipython3",
   "version": "3.6.8"
  }
 },
 "nbformat": 4,
 "nbformat_minor": 2
}
